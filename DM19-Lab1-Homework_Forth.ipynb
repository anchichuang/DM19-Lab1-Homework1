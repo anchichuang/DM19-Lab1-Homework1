{
 "cells": [
  {
   "cell_type": "markdown",
   "metadata": {},
   "source": [
    "### Student Information_Forth part\n",
    "\n",
    "Name: 莊安琦\n",
    "\n",
    "Student ID: 108064532\n",
    "\n",
    "GitHub ID: anchichuang"
   ]
  },
  {
   "cell_type": "raw",
   "metadata": {},
   "source": [
    "1. Reduce the dimension:\n",
    "    I think we can remove meaningless terms, because we count all the terms, while some of them are meaningless. So we can remove some of them from the document term matrix.\n",
    "\n",
    "\n",
    "2. Do stemming\n",
    "    I think in data classification part, we can do stemming, and it will make the word vector more meaningful.\n",
    "\n",
    "\n",
    "3. Heatmap\n",
    "    We plot all the term-document matrix in Heatmap, but I think it wan't useful. Because tha data was too sparse. Maybe we can use the sentiment or categories in y-axis and the meaningful word in x-axis.\n",
    "    \n",
    "   \n"
   ]
  }
 ],
 "metadata": {
  "kernelspec": {
   "display_name": "Python 3",
   "language": "python",
   "name": "python3"
  },
  "language_info": {
   "codemirror_mode": {
    "name": "ipython",
    "version": 3
   },
   "file_extension": ".py",
   "mimetype": "text/x-python",
   "name": "python",
   "nbconvert_exporter": "python",
   "pygments_lexer": "ipython3",
   "version": "3.6.5"
  }
 },
 "nbformat": 4,
 "nbformat_minor": 2
}
